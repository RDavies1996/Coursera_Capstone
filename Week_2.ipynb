{
    "cells": [
        {
            "metadata": {
                "collapsed": true
            },
            "cell_type": "markdown",
            "source": "<font color=darkblue><h1><center>Coursera Capstone Week 2: Introduction & Business Problem</center></h1>"
        },
        {
            "metadata": {},
            "cell_type": "markdown",
            "source": "----"
        },
        {
            "metadata": {},
            "cell_type": "markdown",
            "source": "## <font color=darkblue> 1. Introduction"
        },
        {
            "metadata": {},
            "cell_type": "markdown",
            "source": "### <font color=blue> 1.1 Background"
        },
        {
            "metadata": {},
            "cell_type": "markdown",
            "source": "* Driving is the predominant mode of transport in the United States\n* Millions of people drive personal motor vehicles every day in America \n* Thousands of people are injured and killed yearly in collisions\n* The majority of collisions can be avoided and measures can be taken to reduce the likelihood of severe collisions"
        },
        {
            "metadata": {},
            "cell_type": "markdown",
            "source": "### <font color=blue> 1.2 Business Problem"
        },
        {
            "metadata": {},
            "cell_type": "markdown",
            "source": "* Emergency services spend millions of dollars and countless man-hours clearing up wreckages and transporting injured people\n* Hospitals receive collision victims regularly, so they must give up beds and space that could have been used for patients with severe health conditions\n* Collisions cause congestion on roads, making countless late for work and harming the economy in the long-term\n* Collisions cause time off work for recovery, harming micro/small/medium enteprises that may not have workers to spare"
        },
        {
            "metadata": {},
            "cell_type": "markdown",
            "source": "### <font color=blue> 1.3 Interested Parties"
        },
        {
            "metadata": {},
            "cell_type": "markdown",
            "source": "* Public health, governmental organisations and tax payers that fund emergency service and clean-up jobs\n* Hosptitals that must prioritise patients based on severity and room available\n* Industries and individuals that may stand to lose their lives"
        },
        {
            "metadata": {},
            "cell_type": "markdown",
            "source": "### <font color=blue> 1.4 Purpose"
        },
        {
            "metadata": {},
            "cell_type": "markdown",
            "source": "* This project will analyse the shared car crash dataset from Seattle City\n* The data attributes that describe weather, road and light conditions will be used to train a machine learning model to predict accident severity\n* The machine learning model will then be used to draw conclusions on which factors and environments cause the worst crash severity\n* Conclusions will be used to make suggestions on road policy and how how to reduce crash severity\n* A reduction in crash severity will save government and tax-payer money, as well as improve public safety and economic stability in industry. "
        },
        {
            "metadata": {},
            "cell_type": "code",
            "source": "",
            "execution_count": null,
            "outputs": []
        }
    ],
    "metadata": {
        "kernelspec": {
            "name": "python3",
            "display_name": "Python 3.6",
            "language": "python"
        },
        "language_info": {
            "name": "python",
            "version": "3.6.9",
            "mimetype": "text/x-python",
            "codemirror_mode": {
                "name": "ipython",
                "version": 3
            },
            "pygments_lexer": "ipython3",
            "nbconvert_exporter": "python",
            "file_extension": ".py"
        }
    },
    "nbformat": 4,
    "nbformat_minor": 1
}
